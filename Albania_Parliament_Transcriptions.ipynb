{
 "cells": [
  {
   "attachments": {},
   "cell_type": "markdown",
   "metadata": {},
   "source": [
    "# Install and load packages"
   ]
  },
  {
   "cell_type": "code",
   "execution_count": 1,
   "metadata": {},
   "outputs": [],
   "source": [
    "# !pip3 install datasets\n",
    "from datasets import load_dataset\n",
    "import pandas as pd"
   ]
  },
  {
   "attachments": {},
   "cell_type": "markdown",
   "metadata": {},
   "source": [
    "# Load dataset"
   ]
  },
  {
   "cell_type": "code",
   "execution_count": 3,
   "metadata": {},
   "outputs": [
    {
     "data": {
      "application/vnd.jupyter.widget-view+json": {
       "model_id": "b9e924546480479c8359a9922b432e11",
       "version_major": 2,
       "version_minor": 0
      },
      "text/plain": [
       "Generating train split:   0%|          | 0/46929 [00:00<?, ? examples/s]"
      ]
     },
     "metadata": {},
     "output_type": "display_data"
    }
   ],
   "source": [
    "dataset = load_dataset('Kushtrim/Albania-Parliament-Transcriptions')\n",
    "dataset = dataset['train']"
   ]
  },
  {
   "attachments": {},
   "cell_type": "markdown",
   "metadata": {},
   "source": [
    "# Split dataset into train and test\n",
    "\n",
    "Split the dataset into train and test sets if you want to use the dataset for training a model. If you want to use the dataset for evaluation, you can skip this step."
   ]
  },
  {
   "cell_type": "code",
   "execution_count": 3,
   "metadata": {},
   "outputs": [
    {
     "data": {
      "text/plain": [
       "DatasetDict({\n",
       "    train: Dataset({\n",
       "        features: ['text', 'speaker', 'date', 'id', 'num_tokens', '__index_level_0__'],\n",
       "        num_rows: 35684\n",
       "    })\n",
       "    test: Dataset({\n",
       "        features: ['text', 'speaker', 'date', 'id', 'num_tokens', '__index_level_0__'],\n",
       "        num_rows: 8921\n",
       "    })\n",
       "})"
      ]
     },
     "execution_count": 3,
     "metadata": {},
     "output_type": "execute_result"
    }
   ],
   "source": [
    "dataset = dataset.train_test_split(test_size=0.2)\n",
    "dataset"
   ]
  },
  {
   "attachments": {},
   "cell_type": "markdown",
   "metadata": {},
   "source": [
    "# Convert to pandas dataframe"
   ]
  },
  {
   "cell_type": "code",
   "execution_count": 4,
   "metadata": {},
   "outputs": [
    {
     "data": {
      "text/html": [
       "<div>\n",
       "<style scoped>\n",
       "    .dataframe tbody tr th:only-of-type {\n",
       "        vertical-align: middle;\n",
       "    }\n",
       "\n",
       "    .dataframe tbody tr th {\n",
       "        vertical-align: top;\n",
       "    }\n",
       "\n",
       "    .dataframe thead th {\n",
       "        text-align: right;\n",
       "    }\n",
       "</style>\n",
       "<table border=\"1\" class=\"dataframe\">\n",
       "  <thead>\n",
       "    <tr style=\"text-align: right;\">\n",
       "      <th></th>\n",
       "      <th>text</th>\n",
       "      <th>speaker</th>\n",
       "      <th>date</th>\n",
       "      <th>num_tokens</th>\n",
       "      <th>__index_level_0__</th>\n",
       "    </tr>\n",
       "    <tr>\n",
       "      <th>id</th>\n",
       "      <th></th>\n",
       "      <th></th>\n",
       "      <th></th>\n",
       "      <th></th>\n",
       "      <th></th>\n",
       "    </tr>\n",
       "  </thead>\n",
       "  <tbody>\n",
       "    <tr>\n",
       "      <th>2023-10-05_1</th>\n",
       "      <td>( Seanca filloi në orën 10 : 00)  Rendi i ditë...</td>\n",
       "      <td>LINDITA NIKOLLA</td>\n",
       "      <td>2023-10-05</td>\n",
       "      <td>1756</td>\n",
       "      <td>1</td>\n",
       "    </tr>\n",
       "    <tr>\n",
       "      <th>2023-10-05_2</th>\n",
       "      <td>Mirëdita, të nderuar kolegë deputetë!  Hapim s...</td>\n",
       "      <td>LINDITA NIKOLLA</td>\n",
       "      <td>2023-10-05</td>\n",
       "      <td>668</td>\n",
       "      <td>2</td>\n",
       "    </tr>\n",
       "    <tr>\n",
       "      <th>2023-10-05_3</th>\n",
       "      <td>Zonja Kryetare e Kuvendit, sot është data 5 te...</td>\n",
       "      <td>LULZIM BASHA</td>\n",
       "      <td>2023-10-05</td>\n",
       "      <td>785</td>\n",
       "      <td>3</td>\n",
       "    </tr>\n",
       "    <tr>\n",
       "      <th>2023-10-05_4</th>\n",
       "      <td>Zoti Bardhi.</td>\n",
       "      <td>LINDITA NIKOLLA</td>\n",
       "      <td>2023-10-05</td>\n",
       "      <td>5</td>\n",
       "      <td>4</td>\n",
       "    </tr>\n",
       "    <tr>\n",
       "      <th>2023-10-05_5</th>\n",
       "      <td>Të jem i sinqertë, u emocionova shumë, veçanër...</td>\n",
       "      <td>GAZMENT BARDHI</td>\n",
       "      <td>2023-10-05</td>\n",
       "      <td>451</td>\n",
       "      <td>5</td>\n",
       "    </tr>\n",
       "  </tbody>\n",
       "</table>\n",
       "</div>"
      ],
      "text/plain": [
       "                                                           text  \\\n",
       "id                                                                \n",
       "2023-10-05_1  ( Seanca filloi në orën 10 : 00)  Rendi i ditë...   \n",
       "2023-10-05_2  Mirëdita, të nderuar kolegë deputetë!  Hapim s...   \n",
       "2023-10-05_3  Zonja Kryetare e Kuvendit, sot është data 5 te...   \n",
       "2023-10-05_4                                       Zoti Bardhi.   \n",
       "2023-10-05_5  Të jem i sinqertë, u emocionova shumë, veçanër...   \n",
       "\n",
       "                      speaker        date  num_tokens  __index_level_0__  \n",
       "id                                                                        \n",
       "2023-10-05_1  LINDITA NIKOLLA  2023-10-05        1756                  1  \n",
       "2023-10-05_2  LINDITA NIKOLLA  2023-10-05         668                  2  \n",
       "2023-10-05_3     LULZIM BASHA  2023-10-05         785                  3  \n",
       "2023-10-05_4  LINDITA NIKOLLA  2023-10-05           5                  4  \n",
       "2023-10-05_5   GAZMENT BARDHI  2023-10-05         451                  5  "
      ]
     },
     "execution_count": 4,
     "metadata": {},
     "output_type": "execute_result"
    }
   ],
   "source": [
    "# Load the dataset into a pandas DataFrame.\n",
    "dataset = load_dataset('Kushtrim/Albania-Parliament-Transcriptions')\n",
    "dataset = pd.DataFrame(dataset['train']).set_index('id')\n",
    "dataset.head()"
   ]
  },
  {
   "attachments": {},
   "cell_type": "markdown",
   "metadata": {},
   "source": [
    "# Search by speaker "
   ]
  },
  {
   "cell_type": "code",
   "execution_count": 5,
   "metadata": {},
   "outputs": [],
   "source": [
    "# Search for speakers in the transcript\n",
    "def search_speaker(df, keyword):\n",
    "    keyword = keyword.upper()\n",
    "    keyword = keyword.strip()\n",
    "    df['speaker'].fillna('', inplace=True)\n",
    "    return df[df['speaker'].str.contains(keyword, case=False)]"
   ]
  },
  {
   "cell_type": "code",
   "execution_count": 6,
   "metadata": {},
   "outputs": [
    {
     "data": {
      "text/html": [
       "<div>\n",
       "<style scoped>\n",
       "    .dataframe tbody tr th:only-of-type {\n",
       "        vertical-align: middle;\n",
       "    }\n",
       "\n",
       "    .dataframe tbody tr th {\n",
       "        vertical-align: top;\n",
       "    }\n",
       "\n",
       "    .dataframe thead th {\n",
       "        text-align: right;\n",
       "    }\n",
       "</style>\n",
       "<table border=\"1\" class=\"dataframe\">\n",
       "  <thead>\n",
       "    <tr style=\"text-align: right;\">\n",
       "      <th></th>\n",
       "      <th>text</th>\n",
       "      <th>speaker</th>\n",
       "      <th>date</th>\n",
       "      <th>num_tokens</th>\n",
       "      <th>__index_level_0__</th>\n",
       "    </tr>\n",
       "    <tr>\n",
       "      <th>id</th>\n",
       "      <th></th>\n",
       "      <th></th>\n",
       "      <th></th>\n",
       "      <th></th>\n",
       "      <th></th>\n",
       "    </tr>\n",
       "  </thead>\n",
       "  <tbody>\n",
       "    <tr>\n",
       "      <th>2023-05-25_15</th>\n",
       "      <td>Në radhë të parë, jam shumë i impresionuar nga...</td>\n",
       "      <td>EDI RAMA</td>\n",
       "      <td>2023-05-25</td>\n",
       "      <td>9751</td>\n",
       "      <td>2724</td>\n",
       "    </tr>\n",
       "    <tr>\n",
       "      <th>2023-03-02_13</th>\n",
       "      <td>Prej javësh në Shqipëri ka shpërthyer një kana...</td>\n",
       "      <td>EDI RAMA</td>\n",
       "      <td>2023-03-02</td>\n",
       "      <td>1537</td>\n",
       "      <td>3580</td>\n",
       "    </tr>\n",
       "    <tr>\n",
       "      <th>2023-03-02_15</th>\n",
       "      <td>Fatkeqësisht, jam përfshirë me zell dhe me zja...</td>\n",
       "      <td>EDI RAMA</td>\n",
       "      <td>2023-03-02</td>\n",
       "      <td>2191</td>\n",
       "      <td>3582</td>\n",
       "    </tr>\n",
       "    <tr>\n",
       "      <th>2023-03-02_17</th>\n",
       "      <td>Unë vetëm lexoj aktakuzën dhe vetëm citoj të g...</td>\n",
       "      <td>EDI RAMA</td>\n",
       "      <td>2023-03-02</td>\n",
       "      <td>1695</td>\n",
       "      <td>3584</td>\n",
       "    </tr>\n",
       "    <tr>\n",
       "      <th>2023-03-02_20</th>\n",
       "      <td>\" On October 16, 2017, in the District of Colu...</td>\n",
       "      <td>EDI RAMA</td>\n",
       "      <td>2023-03-02</td>\n",
       "      <td>961</td>\n",
       "      <td>3587</td>\n",
       "    </tr>\n",
       "  </tbody>\n",
       "</table>\n",
       "</div>"
      ],
      "text/plain": [
       "                                                            text   speaker  \\\n",
       "id                                                                           \n",
       "2023-05-25_15  Në radhë të parë, jam shumë i impresionuar nga...  EDI RAMA   \n",
       "2023-03-02_13  Prej javësh në Shqipëri ka shpërthyer një kana...  EDI RAMA   \n",
       "2023-03-02_15  Fatkeqësisht, jam përfshirë me zell dhe me zja...  EDI RAMA   \n",
       "2023-03-02_17  Unë vetëm lexoj aktakuzën dhe vetëm citoj të g...  EDI RAMA   \n",
       "2023-03-02_20  \" On October 16, 2017, in the District of Colu...  EDI RAMA   \n",
       "\n",
       "                     date  num_tokens  __index_level_0__  \n",
       "id                                                        \n",
       "2023-05-25_15  2023-05-25        9751               2724  \n",
       "2023-03-02_13  2023-03-02        1537               3580  \n",
       "2023-03-02_15  2023-03-02        2191               3582  \n",
       "2023-03-02_17  2023-03-02        1695               3584  \n",
       "2023-03-02_20  2023-03-02         961               3587  "
      ]
     },
     "execution_count": 6,
     "metadata": {},
     "output_type": "execute_result"
    }
   ],
   "source": [
    "speaker = search_speaker(dataset, 'EDI RAMA')\n",
    "speaker.head()"
   ]
  },
  {
   "attachments": {},
   "cell_type": "markdown",
   "metadata": {},
   "source": [
    "# Search for keywords"
   ]
  },
  {
   "cell_type": "code",
   "execution_count": 7,
   "metadata": {},
   "outputs": [],
   "source": [
    "# Search for keywords in the transcript\n",
    "def search_keyword(df, keyword):\n",
    "    keyword = keyword.strip()\n",
    "    return df[df['text'].str.contains(keyword, case=False)]"
   ]
  },
  {
   "cell_type": "code",
   "execution_count": 8,
   "metadata": {},
   "outputs": [
    {
     "data": {
      "text/html": [
       "<div>\n",
       "<style scoped>\n",
       "    .dataframe tbody tr th:only-of-type {\n",
       "        vertical-align: middle;\n",
       "    }\n",
       "\n",
       "    .dataframe tbody tr th {\n",
       "        vertical-align: top;\n",
       "    }\n",
       "\n",
       "    .dataframe thead th {\n",
       "        text-align: right;\n",
       "    }\n",
       "</style>\n",
       "<table border=\"1\" class=\"dataframe\">\n",
       "  <thead>\n",
       "    <tr style=\"text-align: right;\">\n",
       "      <th></th>\n",
       "      <th>text</th>\n",
       "      <th>speaker</th>\n",
       "      <th>date</th>\n",
       "      <th>num_tokens</th>\n",
       "      <th>__index_level_0__</th>\n",
       "    </tr>\n",
       "    <tr>\n",
       "      <th>id</th>\n",
       "      <th></th>\n",
       "      <th></th>\n",
       "      <th></th>\n",
       "      <th></th>\n",
       "      <th></th>\n",
       "    </tr>\n",
       "  </thead>\n",
       "  <tbody>\n",
       "    <tr>\n",
       "      <th>2023-10-05_229</th>\n",
       "      <td>Do të doja të jepja një përgjigje lidhur me at...</td>\n",
       "      <td>ETILDA GJONAJ</td>\n",
       "      <td>2023-10-05</td>\n",
       "      <td>2805</td>\n",
       "      <td>229</td>\n",
       "    </tr>\n",
       "    <tr>\n",
       "      <th>2023-10-05_243</th>\n",
       "      <td>Faleminderit, zonja drejtuese e seancës!  Pa d...</td>\n",
       "      <td>TRITAN  SHEHU</td>\n",
       "      <td>2023-10-05</td>\n",
       "      <td>2695</td>\n",
       "      <td>243</td>\n",
       "    </tr>\n",
       "    <tr>\n",
       "      <th>2023-10-02_49</th>\n",
       "      <td>Faleminderit, zonja Kryetare!  Qeveria e Repub...</td>\n",
       "      <td>IGLI HASANI</td>\n",
       "      <td>2023-10-02</td>\n",
       "      <td>2221</td>\n",
       "      <td>301</td>\n",
       "    </tr>\n",
       "    <tr>\n",
       "      <th>2023-10-02_53</th>\n",
       "      <td>Faleminderit, zonja Kryetare!  Pa dyshim, në n...</td>\n",
       "      <td>TRITAN SHEHU</td>\n",
       "      <td>2023-10-02</td>\n",
       "      <td>1090</td>\n",
       "      <td>305</td>\n",
       "    </tr>\n",
       "    <tr>\n",
       "      <th>2023-10-02_91</th>\n",
       "      <td>Faleminderit, zonja drejtuese e seancës!  Të n...</td>\n",
       "      <td>ASLLAN DOGJANI</td>\n",
       "      <td>2023-10-02</td>\n",
       "      <td>2273</td>\n",
       "      <td>343</td>\n",
       "    </tr>\n",
       "  </tbody>\n",
       "</table>\n",
       "</div>"
      ],
      "text/plain": [
       "                                                             text  \\\n",
       "id                                                                  \n",
       "2023-10-05_229  Do të doja të jepja një përgjigje lidhur me at...   \n",
       "2023-10-05_243  Faleminderit, zonja drejtuese e seancës!  Pa d...   \n",
       "2023-10-02_49   Faleminderit, zonja Kryetare!  Qeveria e Repub...   \n",
       "2023-10-02_53   Faleminderit, zonja Kryetare!  Pa dyshim, në n...   \n",
       "2023-10-02_91   Faleminderit, zonja drejtuese e seancës!  Të n...   \n",
       "\n",
       "                       speaker        date  num_tokens  __index_level_0__  \n",
       "id                                                                         \n",
       "2023-10-05_229   ETILDA GJONAJ  2023-10-05        2805                229  \n",
       "2023-10-05_243   TRITAN  SHEHU  2023-10-05        2695                243  \n",
       "2023-10-02_49      IGLI HASANI  2023-10-02        2221                301  \n",
       "2023-10-02_53     TRITAN SHEHU  2023-10-02        1090                305  \n",
       "2023-10-02_91   ASLLAN DOGJANI  2023-10-02        2273                343  "
      ]
     },
     "execution_count": 8,
     "metadata": {},
     "output_type": "execute_result"
    }
   ],
   "source": [
    "keyword = search_keyword(dataset, 'paqe')\n",
    "keyword.head()"
   ]
  }
 ],
 "metadata": {
  "kernelspec": {
   "display_name": "Python 3",
   "language": "python",
   "name": "python3"
  },
  "language_info": {
   "codemirror_mode": {
    "name": "ipython",
    "version": 3
   },
   "file_extension": ".py",
   "mimetype": "text/x-python",
   "name": "python",
   "nbconvert_exporter": "python",
   "pygments_lexer": "ipython3",
   "version": "3.12.7"
  },
  "orig_nbformat": 4
 },
 "nbformat": 4,
 "nbformat_minor": 2
}
